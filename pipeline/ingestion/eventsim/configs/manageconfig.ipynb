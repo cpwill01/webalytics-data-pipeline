{
 "cells": [
  {
   "cell_type": "markdown",
   "metadata": {},
   "source": [
    "The purpose of this notebook is to help in managing the transitions within the config file to simulate various scenarios. It provides a function that ensures the probabilities in the transitions are valid, and an example of how to change the example-config file to your needs. The example given simulates the scenario where there is a sharp increase in the frequency of the 'Error' page appearing."
   ]
  },
  {
   "cell_type": "code",
   "execution_count": 15,
   "metadata": {},
   "outputs": [],
   "source": [
    "import json\n",
    "with open(\"./example-config.json\") as f:\n",
    "    c = json.load(f)"
   ]
  },
  {
   "cell_type": "code",
   "execution_count": 23,
   "metadata": {},
   "outputs": [],
   "source": [
    "def validate_probabilities(transitions):\n",
    "    '''\n",
    "    Validates that the transitions dictionary satisfies the probability constraint, i.e:\n",
    "\n",
    "    For any source state s, the sum of P(s->d) over all possible destination states d must be <= 1\n",
    "    '''\n",
    "    check = {}\n",
    "    for line in transitions:\n",
    "        # a source state can be uniquely identified by (page, auth, level)\n",
    "        src = line['source']\n",
    "        src = (src['page'], src['auth'], src['level'])\n",
    "        if src not in check:\n",
    "            check[src] = 0\n",
    "        check[src] += line['p']\n",
    "    for src in check:\n",
    "        if check[src] > 1:\n",
    "            return False\n",
    "    return True"
   ]
  },
  {
   "cell_type": "markdown",
   "metadata": {},
   "source": [
    "The following cells change the transitions in the config file to one where all pages will lead to an 'Error' page with error code 408 with a very high probability of 0.9. After encountering an error page, the user has a 50% chance of ending the current session."
   ]
  },
  {
   "cell_type": "code",
   "execution_count": 17,
   "metadata": {},
   "outputs": [],
   "source": [
    "from copy import deepcopy\n",
    "new_c = deepcopy(c)\n",
    "prev = c['transitions'][0]['source']\n",
    "prev = (prev['page'], prev['auth'], prev['level'])\n",
    "accumulate_prev = []\n",
    "for i in range(len(c['transitions'])):\n",
    "    current = c['transitions'][i]['source']\n",
    "    current = (current['page'], current['auth'], current['level'])\n",
    "    if current == prev:\n",
    "        accumulate_prev.append(i)\n",
    "    else:\n",
    "        for j in accumulate_prev:\n",
    "            if prev[0] == 'Error':\n",
    "                if new_c['transitions'][j]['dest']['page'] == 'Error':\n",
    "                    new_c['transitions'][j]['dest']['status'] = 408\n",
    "                    new_c['transitions'][j]['p'] = 0.4\n",
    "                else:\n",
    "                    new_c['transitions'][j]['p'] = 0.1/(len(accumulate_prev))\n",
    "            else:\n",
    "                if new_c['transitions'][j]['dest']['page'] == 'Error':\n",
    "                    new_c['transitions'][j]['dest']['status'] = 408\n",
    "                    new_c['transitions'][j]['p'] = 0.9\n",
    "                else:\n",
    "                    new_c['transitions'][j]['p'] = 0.1/(len(accumulate_prev))\n",
    "        prev = current\n",
    "\n",
    "        accumulate_prev = [i]"
   ]
  },
  {
   "cell_type": "code",
   "execution_count": 18,
   "metadata": {},
   "outputs": [
    {
     "name": "stdout",
     "output_type": "stream",
     "text": [
      "{'source': {'page': 'About', 'method': 'GET', 'status': 200, 'auth': 'Guest', 'level': 'free'}, 'dest': {'page': 'About', 'method': 'GET', 'status': 200, 'auth': 'Guest', 'level': 'free'}, 'p': 0.05}\n",
      "{'source': {'page': 'About', 'method': 'GET', 'status': 200, 'auth': 'Guest', 'level': 'free'}, 'dest': {'page': 'Help', 'method': 'GET', 'status': 200, 'auth': 'Guest', 'level': 'free'}, 'p': 0.05}\n",
      "{'source': {'page': 'About', 'method': 'GET', 'status': 200, 'auth': 'Guest', 'level': 'free'}, 'dest': {'page': 'Home', 'method': 'GET', 'status': 200, 'auth': 'Guest', 'level': 'free'}, 'p': 0.3}\n",
      "{'source': {'page': 'About', 'method': 'GET', 'status': 200, 'auth': 'Guest', 'level': 'free'}, 'dest': {'page': 'Register', 'method': 'GET', 'status': 200, 'auth': 'Guest', 'level': 'free'}, 'p': 0.1}\n",
      "{'source': {'page': 'About', 'method': 'GET', 'status': 200, 'auth': 'Guest', 'level': 'free'}, 'dest': {'page': 'Error', 'method': 'GET', 'status': 404, 'auth': 'Guest', 'level': 'free'}, 'p': 0.001}\n"
     ]
    }
   ],
   "source": [
    "for i in range(5):\n",
    "    print(c['transitions'][i])"
   ]
  },
  {
   "cell_type": "code",
   "execution_count": null,
   "metadata": {},
   "outputs": [
    {
     "name": "stdout",
     "output_type": "stream",
     "text": [
      "{'source': {'page': 'About', 'method': 'GET', 'status': 200, 'auth': 'Guest', 'level': 'free'}, 'dest': {'page': 'About', 'method': 'GET', 'status': 200, 'auth': 'Guest', 'level': 'free'}, 'p': 0.02}\n",
      "{'source': {'page': 'About', 'method': 'GET', 'status': 200, 'auth': 'Guest', 'level': 'free'}, 'dest': {'page': 'Help', 'method': 'GET', 'status': 200, 'auth': 'Guest', 'level': 'free'}, 'p': 0.02}\n",
      "{'source': {'page': 'About', 'method': 'GET', 'status': 200, 'auth': 'Guest', 'level': 'free'}, 'dest': {'page': 'Home', 'method': 'GET', 'status': 200, 'auth': 'Guest', 'level': 'free'}, 'p': 0.02}\n",
      "{'source': {'page': 'About', 'method': 'GET', 'status': 200, 'auth': 'Guest', 'level': 'free'}, 'dest': {'page': 'Register', 'method': 'GET', 'status': 200, 'auth': 'Guest', 'level': 'free'}, 'p': 0.02}\n",
      "{'source': {'page': 'About', 'method': 'GET', 'status': 200, 'auth': 'Guest', 'level': 'free'}, 'dest': {'page': 'Error', 'method': 'GET', 'status': 408, 'auth': 'Guest', 'level': 'free'}, 'p': 0.9}\n"
     ]
    }
   ],
   "source": [
    "for i in range(5):\n",
    "    print(new_c['transitions'][i])"
   ]
  },
  {
   "cell_type": "code",
   "execution_count": 24,
   "metadata": {},
   "outputs": [
    {
     "data": {
      "text/plain": [
       "True"
      ]
     },
     "execution_count": 24,
     "metadata": {},
     "output_type": "execute_result"
    }
   ],
   "source": [
    "validate_probabilities(new_c['transitions'])"
   ]
  },
  {
   "cell_type": "markdown",
   "metadata": {},
   "source": [
    "The below cell changes the probability for the which state a new session starts on. This is based on the relative weights between the different possible start states and does not need to fulfill any probability constraints."
   ]
  },
  {
   "cell_type": "code",
   "execution_count": null,
   "metadata": {},
   "outputs": [],
   "source": [
    "for k in new_c['new-session']:\n",
    "    if k['page'] == 'Error':\n",
    "        k['status'] = 408\n",
    "        k['weight'] = 50 if k['auth'] == 'Guest' else 2500"
   ]
  },
  {
   "cell_type": "code",
   "execution_count": null,
   "metadata": {},
   "outputs": [],
   "source": [
    "with open('outage-config.json', 'w') as f:\n",
    "    f.write(json.dumps(new_c, indent = 2))"
   ]
  }
 ],
 "metadata": {
  "kernelspec": {
   "display_name": "DECamp_Spark332",
   "language": "python",
   "name": "python3"
  },
  "language_info": {
   "codemirror_mode": {
    "name": "ipython",
    "version": 3
   },
   "file_extension": ".py",
   "mimetype": "text/x-python",
   "name": "python",
   "nbconvert_exporter": "python",
   "pygments_lexer": "ipython3",
   "version": "3.10.16"
  }
 },
 "nbformat": 4,
 "nbformat_minor": 2
}
