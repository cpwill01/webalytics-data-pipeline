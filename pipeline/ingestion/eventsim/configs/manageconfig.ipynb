{
 "cells": [
  {
   "cell_type": "code",
   "execution_count": 2,
   "metadata": {},
   "outputs": [],
   "source": [
    "import json"
   ]
  },
  {
   "cell_type": "code",
   "execution_count": 3,
   "metadata": {},
   "outputs": [],
   "source": [
    "with open(\"./example-config.json\") as f:\n",
    "    c = json.load(f)"
   ]
  },
  {
   "cell_type": "code",
   "execution_count": 18,
   "metadata": {},
   "outputs": [],
   "source": [
    "del a"
   ]
  },
  {
   "cell_type": "code",
   "execution_count": 13,
   "metadata": {},
   "outputs": [],
   "source": [
    "new_c = c.copy()\n",
    "prev = c['transitions'][0]['source']\n",
    "prev = (prev['page'], prev['auth'], prev['level'])\n",
    "accumulate_prev = []\n",
    "for i in range(len(c['transitions'])):\n",
    "    current = c['transitions'][i]['source']\n",
    "    current = (current['page'], current['auth'], current['level'])\n",
    "    if current == prev:\n",
    "        accumulate_prev.append(i)\n",
    "    else:\n",
    "        for j in accumulate_prev:\n",
    "            if prev[0] == 'Error':\n",
    "                if new_c['transitions'][j]['dest']['page'] == 'Error':\n",
    "                    new_c['transitions'][j]['dest']['status'] = 408\n",
    "                    new_c['transitions'][j]['p'] = 0.4\n",
    "                else:\n",
    "                    new_c['transitions'][j]['p'] = 0.1/(len(accumulate_prev))\n",
    "            else:\n",
    "                if new_c['transitions'][j]['dest']['page'] == 'Error':\n",
    "                    new_c['transitions'][j]['dest']['status'] = 408\n",
    "                    new_c['transitions'][j]['p'] = 0.9\n",
    "                else:\n",
    "                    new_c['transitions'][j]['p'] = 0.1/(len(accumulate_prev))\n",
    "        prev = current\n",
    "\n",
    "        accumulate_prev = [i]"
   ]
  },
  {
   "cell_type": "code",
   "execution_count": 40,
   "metadata": {},
   "outputs": [
    {
     "name": "stdout",
     "output_type": "stream",
     "text": [
      "{'source': {'page': 'About', 'method': 'GET', 'status': 200, 'auth': 'Guest', 'level': 'free'}, 'dest': {'page': 'About', 'method': 'GET', 'status': 200, 'auth': 'Guest', 'level': 'free'}, 'p': 0.02}\n",
      "{'source': {'page': 'About', 'method': 'GET', 'status': 200, 'auth': 'Guest', 'level': 'free'}, 'dest': {'page': 'Help', 'method': 'GET', 'status': 200, 'auth': 'Guest', 'level': 'free'}, 'p': 0.02}\n",
      "{'source': {'page': 'About', 'method': 'GET', 'status': 200, 'auth': 'Guest', 'level': 'free'}, 'dest': {'page': 'Home', 'method': 'GET', 'status': 200, 'auth': 'Guest', 'level': 'free'}, 'p': 0.02}\n",
      "{'source': {'page': 'About', 'method': 'GET', 'status': 200, 'auth': 'Guest', 'level': 'free'}, 'dest': {'page': 'Register', 'method': 'GET', 'status': 200, 'auth': 'Guest', 'level': 'free'}, 'p': 0.02}\n",
      "{'source': {'page': 'About', 'method': 'GET', 'status': 200, 'auth': 'Guest', 'level': 'free'}, 'dest': {'page': 'Error', 'method': 'GET', 'status': 404, 'auth': 'Guest', 'level': 'free'}, 'p': 0.9}\n"
     ]
    }
   ],
   "source": [
    "for i in range(5):\n",
    "    print(c['transitions'][i])"
   ]
  },
  {
   "cell_type": "code",
   "execution_count": 41,
   "metadata": {},
   "outputs": [
    {
     "name": "stdout",
     "output_type": "stream",
     "text": [
      "{'source': {'page': 'Help', 'method': 'GET', 'status': 200, 'auth': 'Guest', 'level': 'free'}, 'dest': {'page': 'About', 'method': 'GET', 'status': 200, 'auth': 'Guest', 'level': 'free'}, 'p': 0.02}\n",
      "{'source': {'page': 'Help', 'method': 'GET', 'status': 200, 'auth': 'Guest', 'level': 'free'}, 'dest': {'page': 'Help', 'method': 'GET', 'status': 200, 'auth': 'Guest', 'level': 'free'}, 'p': 0.02}\n",
      "{'source': {'page': 'Help', 'method': 'GET', 'status': 200, 'auth': 'Guest', 'level': 'free'}, 'dest': {'page': 'Home', 'method': 'GET', 'status': 200, 'auth': 'Guest', 'level': 'free'}, 'p': 0.02}\n",
      "{'source': {'page': 'Help', 'method': 'GET', 'status': 200, 'auth': 'Guest', 'level': 'free'}, 'dest': {'page': 'Register', 'method': 'GET', 'status': 200, 'auth': 'Guest', 'level': 'free'}, 'p': 0.02}\n",
      "{'source': {'page': 'Help', 'method': 'GET', 'status': 200, 'auth': 'Guest', 'level': 'free'}, 'dest': {'page': 'Error', 'method': 'GET', 'status': 404, 'auth': 'Guest', 'level': 'free'}, 'p': 0.9}\n"
     ]
    }
   ],
   "source": [
    "\n",
    "for i in range(5,10):\n",
    "    print(new_c['transitions'][i])"
   ]
  },
  {
   "cell_type": "code",
   "execution_count": 44,
   "metadata": {},
   "outputs": [
    {
     "name": "stdout",
     "output_type": "stream",
     "text": [
      "[50, 51, 52, 53, 54, 55, 56, 57, 58, 59]\n",
      "[143, 144, 145, 146, 147, 148, 149, 150, 151, 152]\n"
     ]
    }
   ],
   "source": [
    "prev = new_c['transitions'][0]['source']\n",
    "prev = (prev['page'], prev['auth'], prev['level'])\n",
    "accumulate_prev = []\n",
    "for i in range(len(new_c['transitions'])):\n",
    "    current = new_c['transitions'][i]['source']\n",
    "    current = (current['page'], current['auth'], current['level'])\n",
    "    if current == prev:\n",
    "        accumulate_prev.append(i)\n",
    "    else:\n",
    "        checker = 0\n",
    "        for j in accumulate_prev:\n",
    "            checker += new_c['transitions'][j]['p']\n",
    "        if checker >= 0.99:\n",
    "            print(accumulate_prev)\n",
    "        prev = current\n",
    "        accumulate_prev = [i]"
   ]
  },
  {
   "cell_type": "code",
   "execution_count": 45,
   "metadata": {},
   "outputs": [
    {
     "name": "stdout",
     "output_type": "stream",
     "text": [
      "{'source': {'page': 'Settings', 'method': 'GET', 'status': 200, 'auth': 'Logged In', 'level': 'free'}, 'dest': {'page': 'About', 'method': 'GET', 'status': 200, 'auth': 'Logged In', 'level': 'free'}, 'p': 0.01}\n",
      "{'source': {'page': 'Settings', 'method': 'GET', 'status': 200, 'auth': 'Logged In', 'level': 'free'}, 'dest': {'page': 'Help', 'method': 'GET', 'status': 200, 'auth': 'Logged In', 'level': 'free'}, 'p': 0.01}\n",
      "{'source': {'page': 'Settings', 'method': 'GET', 'status': 200, 'auth': 'Logged In', 'level': 'free'}, 'dest': {'page': 'Home', 'method': 'GET', 'status': 200, 'auth': 'Logged In', 'level': 'free'}, 'p': 0.01}\n",
      "{'source': {'page': 'Settings', 'method': 'GET', 'status': 200, 'auth': 'Logged In', 'level': 'free'}, 'dest': {'page': 'Settings', 'method': 'GET', 'status': 200, 'auth': 'Logged In', 'level': 'free'}, 'p': 0.01}\n",
      "{'source': {'page': 'Settings', 'method': 'GET', 'status': 200, 'auth': 'Logged In', 'level': 'free'}, 'dest': {'page': 'Upgrade', 'method': 'GET', 'status': 200, 'auth': 'Logged In', 'level': 'free'}, 'p': 0.01}\n",
      "{'source': {'page': 'Settings', 'method': 'GET', 'status': 200, 'auth': 'Logged In', 'level': 'free'}, 'dest': {'page': 'NextSong', 'method': 'PUT', 'status': 200, 'auth': 'Logged In', 'level': 'free'}, 'p': 0.01}\n",
      "{'source': {'page': 'Settings', 'method': 'GET', 'status': 200, 'auth': 'Logged In', 'level': 'free'}, 'dest': {'page': 'Cancel', 'method': 'PUT', 'status': 307, 'auth': 'Logged In', 'level': 'free'}, 'p': 0.01}\n",
      "{'source': {'page': 'Settings', 'method': 'GET', 'status': 200, 'auth': 'Logged In', 'level': 'free'}, 'dest': {'page': 'Logout', 'method': 'PUT', 'status': 307, 'auth': 'Logged In', 'level': 'free'}, 'p': 0.01}\n",
      "{'source': {'page': 'Settings', 'method': 'GET', 'status': 200, 'auth': 'Logged In', 'level': 'free'}, 'dest': {'page': 'Save Settings', 'method': 'PUT', 'status': 307, 'auth': 'Logged In', 'level': 'free'}, 'p': 0.01}\n",
      "{'source': {'page': 'Settings', 'method': 'GET', 'status': 200, 'auth': 'Logged In', 'level': 'free'}, 'dest': {'page': 'Error', 'method': 'GET', 'status': 404, 'auth': 'Logged In', 'level': 'free'}, 'p': 0.9}\n"
     ]
    }
   ],
   "source": [
    "\n",
    "for i in range(50,60):\n",
    "    print(new_c['transitions'][i])"
   ]
  },
  {
   "cell_type": "code",
   "execution_count": 30,
   "metadata": {},
   "outputs": [
    {
     "data": {
      "text/plain": [
       "198"
      ]
     },
     "execution_count": 30,
     "metadata": {},
     "output_type": "execute_result"
    }
   ],
   "source": [
    "len(c['transitions'])"
   ]
  },
  {
   "cell_type": "code",
   "execution_count": 47,
   "metadata": {},
   "outputs": [],
   "source": [
    "with open('outage-config-2.json', 'w') as f:\n",
    "    json.dump(new_c, f)"
   ]
  },
  {
   "cell_type": "code",
   "execution_count": 14,
   "metadata": {},
   "outputs": [],
   "source": [
    "for k in new_c['new-session']:\n",
    "    if k['page'] == 'Error':\n",
    "        k['status'] = 408\n",
    "        k['weight'] = 50 if k['auth'] == 'Guest' else 2500"
   ]
  },
  {
   "cell_type": "code",
   "execution_count": 15,
   "metadata": {},
   "outputs": [],
   "source": [
    "with open('outage-config-2.json', 'w') as f:\n",
    "    f.write(json.dumps(new_c, indent = 2))"
   ]
  },
  {
   "cell_type": "code",
   "execution_count": null,
   "metadata": {},
   "outputs": [],
   "source": []
  }
 ],
 "metadata": {
  "kernelspec": {
   "display_name": "DECamp_Spark332",
   "language": "python",
   "name": "python3"
  },
  "language_info": {
   "codemirror_mode": {
    "name": "ipython",
    "version": 3
   },
   "file_extension": ".py",
   "mimetype": "text/x-python",
   "name": "python",
   "nbconvert_exporter": "python",
   "pygments_lexer": "ipython3",
   "version": "3.10.16"
  }
 },
 "nbformat": 4,
 "nbformat_minor": 2
}
